{
 "cells": [
  {
   "cell_type": "code",
   "execution_count": 1,
   "metadata": {},
   "outputs": [
    {
     "name": "stderr",
     "output_type": "stream",
     "text": [
      "/tmp/ipykernel_357031/2611190561.py:3: DeprecationWarning: The module snntorch.backprop will be deprecated in  a future release. Writing out your own training loop will lead to substantially faster performance.\n",
      "  from snntorch import backprop\n"
     ]
    }
   ],
   "source": [
    "import snntorch as snn\n",
    "from snntorch import surrogate\n",
    "from snntorch import backprop\n",
    "from snntorch import functional as SF\n",
    "from snntorch import utils\n",
    "from snntorch import spikeplot as splt\n",
    "\n",
    "import torch\n",
    "import torch.nn as nn\n",
    "from torch.utils.data import DataLoader\n",
    "from torchvision import datasets, transforms\n",
    "import torch.nn.functional as F\n",
    "\n",
    "import matplotlib.pyplot as plt\n",
    "import numpy as np\n",
    "import itertools\n",
    "from encoder_ import *"
   ]
  },
  {
   "cell_type": "code",
   "execution_count": 2,
   "metadata": {},
   "outputs": [],
   "source": [
    "# class RLencoder(torch.nn.Module):\n",
    "#     def __init__(self, time_window, fire_window_ratio):\n",
    "#         super(RLencoder, self).__init__()\n",
    "#         self.time_window = time_window\n",
    "#         self.fire_window = int(time_window * fire_window_ratio)\n",
    "#         print(\"time_window: \", self.time_window)\n",
    "#         print(\"fire_window: \", self.fire_window)\n",
    "\n",
    "#     def forward(self, x):\n",
    "#         batch_size, _, height, width = x.shape\n",
    "#         spikes = torch.zeros(batch_size, height, width, self.time_window).to(x.device)\n",
    "#         # print(\"spikes.shape\", spikes.shape)\n",
    "\n",
    "#         # gray = to_grayscale(x)\n",
    "#         # max_latency = 100\n",
    "#         var = variance_map(x, 5)\n",
    "#         latency = calculate_latency(var, self.time_window, self.fire_window, mode='log')\n",
    "\n",
    "#         spike_prob = torch.rand(batch_size, height, width, self.time_window).to(x.device)\n",
    "\n",
    "#         time_range = torch.arange(self.time_window).view(1, 1, 1, -1).to(x.device)\n",
    "#         firing_mask = ((time_range >= latency.unsqueeze(-1)) & (time_range < (latency + self.fire_window).unsqueeze(-1))).squeeze().float()\n",
    "#         # print(\"spikes shape\", spikes.shape)\n",
    "#         # print(\"spike_prob shape\", spike_prob.shape)\n",
    "#         # print(\"x shape\", x.shape)\n",
    "#         # print(\"firing_mask shape\", firing_mask.shape)\n",
    "#         x = torch.mean(x, dim=1, keepdim=True)\n",
    "#         spikes = (spike_prob < x.squeeze().unsqueeze(-1)) * firing_mask\n",
    "        \n",
    "#         return spikes\n",
    "\n",
    "# # def to_grayscale(image):\n",
    "# #     return torch.mean(image, dim=1, keepdim=True)\n",
    "\n",
    "# def variance_map(image, kernel_size):\n",
    "#     # kernel_size : odd\n",
    "    \n",
    "#     pad_size = kernel_size // 2\n",
    "#     padded_image = F.pad(image, pad=(pad_size, pad_size, pad_size, pad_size), mode='reflect')\n",
    "    \n",
    "#     local_mean = F.avg_pool2d(padded_image, kernel_size, stride=1, padding=0)\n",
    "    \n",
    "#     squared_image = padded_image ** 2\n",
    "#     local_mean_squared = F.avg_pool2d(squared_image, kernel_size, stride=1, padding=0)\n",
    "    \n",
    "#     variance = local_mean_squared - local_mean ** 2\n",
    "#     if variance.shape[1] != 1:\n",
    "#         variance = torch.mean(variance, dim=1, keepdim=True)\n",
    "    \n",
    "#     return variance\n",
    "\n",
    "# def calculate_latency(div_image, time_window, fire_window, mode='linear'):\n",
    "#     min_div, max_div = div_image.min(), div_image.max()\n",
    "#     normalized_div = (div_image - min_div) / (max_div - min_div)\n",
    "#     if mode == \"linear\":\n",
    "#         latency = (time_window - fire_window) * (1 - normalized_div)\n",
    "#         return latency\n",
    "#     elif mode == \"log\":\n",
    "#         latency = 1/(normalized_div + 1/(time_window - fire_window))\n",
    "#         return latency"
   ]
  },
  {
   "cell_type": "code",
   "execution_count": 3,
   "metadata": {},
   "outputs": [],
   "source": [
    "# dataloader arguments\n",
    "batch_size = 128\n",
    "data_path='./data'\n",
    "\n",
    "dtype = torch.float\n",
    "device = torch.device(\"cuda\") if torch.cuda.is_available() else torch.device(\"mps\") if torch.backends.mps.is_available() else torch.device(\"cpu\")"
   ]
  },
  {
   "cell_type": "code",
   "execution_count": null,
   "metadata": {},
   "outputs": [],
   "source": [
    "scaler = GradScaler()"
   ]
  },
  {
   "cell_type": "code",
   "execution_count": 4,
   "metadata": {},
   "outputs": [
    {
     "name": "stdout",
     "output_type": "stream",
     "text": [
      "Files already downloaded and verified\n",
      "Files already downloaded and verified\n"
     ]
    }
   ],
   "source": [
    "# Define a transform\n",
    "transform = transforms.Compose([\n",
    "            transforms.ToTensor(),\n",
    "            transforms.Normalize((0.5, 0.5, 0.5), (0.5, 0.5, 0.5))])\n",
    "\n",
    "cifar10_train = datasets.CIFAR10(data_path, train=True, download=True, transform=transform)\n",
    "cifar10_test = datasets.CIFAR10(data_path, train=False, download=True, transform=transform)"
   ]
  },
  {
   "cell_type": "code",
   "execution_count": 5,
   "metadata": {},
   "outputs": [],
   "source": [
    "# Create DataLoaders\n",
    "train_loader = DataLoader(cifar10_train, batch_size=batch_size, shuffle=True, drop_last=True)\n",
    "test_loader = DataLoader(cifar10_test, batch_size=batch_size, shuffle=True, drop_last=True)"
   ]
  },
  {
   "cell_type": "code",
   "execution_count": 27,
   "metadata": {},
   "outputs": [],
   "source": [
    "num_inputs = 32*32\n",
    "num_hidden = 1000\n",
    "num_outputs = 10\n",
    "num_steps = 100\n",
    "\n",
    "spike_grad = surrogate.fast_sigmoid(slope=25)\n",
    "beta = 0.5"
   ]
  },
  {
   "cell_type": "code",
   "execution_count": 28,
   "metadata": {},
   "outputs": [],
   "source": [
    "net = nn.Sequential(nn.Linear(num_inputs, num_hidden),\n",
    "                    snn.Leaky(beta=beta, spike_grad=spike_grad, init_hidden=True),\n",
    "                    nn.Linear(num_hidden, num_outputs),\n",
    "                    snn.Leaky(beta=beta, spike_grad=spike_grad, init_hidden=True, output=True)\n",
    "                    ).to(device)"
   ]
  },
  {
   "cell_type": "code",
   "execution_count": 32,
   "metadata": {},
   "outputs": [
    {
     "name": "stdout",
     "output_type": "stream",
     "text": [
      "time_window:  100\n",
      "fire_window:  20\n"
     ]
    }
   ],
   "source": [
    "time_window = num_steps # 100\n",
    "fire_window_ratio = 0.2\n",
    "\n",
    "encoder = RLencoder(time_window, fire_window_ratio)"
   ]
  },
  {
   "cell_type": "code",
   "execution_count": 37,
   "metadata": {},
   "outputs": [],
   "source": [
    "def forward_pass(net, num_steps, data):\n",
    "  mem_rec = []\n",
    "  spk_rec = []\n",
    "  utils.reset(net)\n",
    "\n",
    "  spike_trains = encoder(data)\n",
    "  spike_trains = spike_trains.permute(3, 0, 1, 2)\n",
    "\n",
    "  for step in range(num_steps):\n",
    "      spk_out, mem_out = net(spike_trains[step].view(batch_size, -1))\n",
    "      spk_rec.append(spk_out)\n",
    "      mem_rec.append(mem_out)\n",
    "\n",
    "  return torch.stack(spk_rec), torch.stack(mem_rec)"
   ]
  },
  {
   "cell_type": "code",
   "execution_count": 38,
   "metadata": {},
   "outputs": [],
   "source": [
    "def batch_accuracy(train_loader, net, num_steps):\n",
    "  with torch.no_grad():\n",
    "    total = 0\n",
    "    acc = 0\n",
    "    net.eval()\n",
    "\n",
    "    train_loader = iter(train_loader)\n",
    "    for data, targets in train_loader:\n",
    "      data = data.to(device)\n",
    "      targets = targets.to(device)\n",
    "      spk_rec, _ = forward_pass(net, num_steps, data)\n",
    "\n",
    "      acc += SF.accuracy_rate(spk_rec, targets) * spk_rec.size(1)\n",
    "      total += spk_rec.size(1)\n",
    "\n",
    "  return acc/total"
   ]
  },
  {
   "cell_type": "code",
   "execution_count": 39,
   "metadata": {},
   "outputs": [],
   "source": [
    "loss_fn = SF.ce_rate_loss()\n",
    "optimizer = torch.optim.Adam(net.parameters(), lr=5e-4, betas=(0.9, 0.999))"
   ]
  },
  {
   "cell_type": "code",
   "execution_count": 40,
   "metadata": {},
   "outputs": [
    {
     "name": "stdout",
     "output_type": "stream",
     "text": [
      "Iteration 0, Test Acc: 9.97%\n",
      "\n",
      "Iteration 50, Test Acc: 12.40%\n",
      "\n",
      "Iteration 100, Test Acc: 14.16%\n",
      "\n",
      "Iteration 150, Test Acc: 18.27%\n",
      "\n",
      "Iteration 200, Test Acc: 19.35%\n",
      "\n",
      "Iteration 250, Test Acc: 20.49%\n",
      "\n",
      "Iteration 300, Test Acc: 21.13%\n",
      "\n",
      "Iteration 350, Test Acc: 22.12%\n",
      "\n"
     ]
    }
   ],
   "source": [
    "num_epochs = 1\n",
    "loss_hist = []\n",
    "test_acc_hist = []\n",
    "counter = 0\n",
    "\n",
    "# Outer training loop\n",
    "for epoch in range(num_epochs):\n",
    "    iter_counter = 0\n",
    "    train_batch = iter(train_loader)\n",
    "\n",
    "    # Minibatch training loop\n",
    "    for data, targets in train_batch:\n",
    "        data = data.to(device)\n",
    "        targets = targets.to(device)\n",
    "\n",
    "        # forward pass\n",
    "        net.train()\n",
    "        # spk_rec, mem_rec = net(data.view(batch_size, -1))\n",
    "        spk_rec, _ = forward_pass(net, num_steps, data)\n",
    "        loss_val = loss_fn(spk_rec, targets)\n",
    "\n",
    "        # Gradient calculation + weight update\n",
    "        optimizer.zero_grad()\n",
    "        loss_val.backward()\n",
    "        optimizer.step()\n",
    "\n",
    "        # Store loss history for future plotting\n",
    "        loss_hist.append(loss_val.item())\n",
    "\n",
    "        # Test set\n",
    "        if counter % 50 == 0:\n",
    "            with torch.no_grad():\n",
    "                net.eval()\n",
    "\n",
    "                # Test set forward pass\n",
    "                test_acc = batch_accuracy(test_loader, net, num_steps)\n",
    "                print(f\"Iteration {counter}, Test Acc: {test_acc * 100:.2f}%\\n\")\n",
    "                test_acc_hist.append(test_acc.item())\n",
    "\n",
    "        counter += 1"
   ]
  },
  {
   "cell_type": "code",
   "execution_count": 13,
   "metadata": {},
   "outputs": [
    {
     "data": {
      "image/png": "[encoded data removed]",
      "text/plain": [
       "<Figure size 640x480 with 1 Axes>"
      ]
     },
     "metadata": {},
     "output_type": "display_data"
    }
   ],
   "source": [
    "fig = plt.figure(facecolor=\"w\")\n",
    "plt.plot(test_acc_hist)\n",
    "plt.title(\"Test Set Accuracy\")\n",
    "plt.xlabel(\"Epoch\")\n",
    "plt.ylabel(\"Accuracy\")\n",
    "plt.show()"
   ]
  },
  {
   "cell_type": "code",
   "execution_count": 14,
   "metadata": {},
   "outputs": [],
   "source": [
    "def forward_pass_test(net, num_steps, data):\n",
    "  mem_rec = []\n",
    "  spk_rec = []\n",
    "  utils.reset(net)  # resets hidden states for all LIF neurons in net\n",
    "\n",
    "  for step in range(num_steps):\n",
    "      spk_out, mem_out = net(data.view(data.size(0), -1))\n",
    "      spk_rec.append(spk_out)\n",
    "      mem_rec.append(mem_out)\n",
    "\n",
    "  return torch.stack(spk_rec), torch.stack(mem_rec)"
   ]
  },
  {
   "cell_type": "code",
   "execution_count": 15,
   "metadata": {},
   "outputs": [
    {
     "ename": "NameError",
     "evalue": "name 'mnist_test' is not defined",
     "output_type": "error",
     "traceback": [
      "\u001b[0;31m---------------------------------------------------------------------------\u001b[0m",
      "\u001b[0;31mNameError\u001b[0m                                 Traceback (most recent call last)",
      "Cell \u001b[0;32mIn[15], line 5\u001b[0m\n\u001b[1;32m      2\u001b[0m correct \u001b[38;5;241m=\u001b[39m \u001b[38;5;241m0\u001b[39m\n\u001b[1;32m      4\u001b[0m \u001b[38;5;66;03m# drop_last switched to False to keep all samples\u001b[39;00m\n\u001b[0;32m----> 5\u001b[0m test_loader \u001b[38;5;241m=\u001b[39m DataLoader(\u001b[43mmnist_test\u001b[49m, batch_size\u001b[38;5;241m=\u001b[39mbatch_size, shuffle\u001b[38;5;241m=\u001b[39m\u001b[38;5;28;01mTrue\u001b[39;00m, drop_last\u001b[38;5;241m=\u001b[39m\u001b[38;5;28;01mFalse\u001b[39;00m)\n\u001b[1;32m      7\u001b[0m \u001b[38;5;28;01mwith\u001b[39;00m torch\u001b[38;5;241m.\u001b[39mno_grad():\n\u001b[1;32m      8\u001b[0m   net\u001b[38;5;241m.\u001b[39meval()\n",
      "\u001b[0;31mNameError\u001b[0m: name 'mnist_test' is not defined"
     ]
    }
   ],
   "source": [
    "total = 0\n",
    "correct = 0\n",
    "\n",
    "# drop_last switched to False to keep all samples\n",
    "test_loader = DataLoader(mnist_test, batch_size=batch_size, shuffle=True, drop_last=False)\n",
    "\n",
    "with torch.no_grad():\n",
    "  net.eval()\n",
    "  for data, targets in test_loader:\n",
    "    data = data.to(device)\n",
    "    targets = targets.to(device)\n",
    "\n",
    "    # forward pass\n",
    "    test_spk, _ = forward_pass_test(net, num_steps, data)\n",
    "\n",
    "    # calculate total accuracy\n",
    "    _, predicted = test_spk.sum(dim=0).max(1)\n",
    "    total += targets.size(0)\n",
    "    correct += (predicted == targets).sum().item()"
   ]
  },
  {
   "cell_type": "code",
   "execution_count": null,
   "metadata": {},
   "outputs": [
    {
     "name": "stdout",
     "output_type": "stream",
     "text": [
      "Total correctly classified test set images: 9300/10000\n",
      "Test Set Accuracy: 93.00%\n"
     ]
    }
   ],
   "source": [
    "print(f\"Total correctly classified test set images: {correct}/{total}\")\n",
    "print(f\"Test Set Accuracy: {100 * correct / total:.2f}%\")"
   ]
  },
  {
   "cell_type": "code",
   "execution_count": null,
   "metadata": {},
   "outputs": [],
   "source": []
  }
 ],
 "metadata": {
  "kernelspec": {
   "display_name": "ai",
   "language": "python",
   "name": "python3"
  },
  "language_info": {
   "codemirror_mode": {
    "name": "ipython",
    "version": 3
   },
   "file_extension": ".py",
   "mimetype": "text/x-python",
   "name": "python",
   "nbconvert_exporter": "python",
   "pygments_lexer": "ipython3",
   "version": "3.12.0"
  }
 },
 "nbformat": 4,
 "nbformat_minor": 2
}
