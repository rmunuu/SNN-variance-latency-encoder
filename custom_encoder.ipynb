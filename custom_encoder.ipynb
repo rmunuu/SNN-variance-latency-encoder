{
 "cells": [
  {
   "cell_type": "code",
   "execution_count": 13,
   "metadata": {},
   "outputs": [],
   "source": [
    "# import torchvision.datasets as datasets\n",
    "# from torch.utils.data import DataLoader\n",
    "\n",
    "# trainset = datasets.MNIST(root='./data', train=True, download=True)\n",
    "# train_loader = DataLoader(trainset, batch_size=100, shuffle=True)\n",
    "\n",
    "# plt.imshow(train_loader[0])\n",
    "\n",
    "import numpy as np\n",
    "import matplotlib.pyplot as plt\n",
    "import cv2\n",
    "import torch\n",
    "\n",
    "# image = np.random.rand(32, 32)\n",
    "# plt.imshow(image)\n",
    "image = cv2.imread(\"./local_var.png\")\n",
    "image = cv2.cvtColor(image, cv2.COLOR_BGR2GRAY)\n",
    "image = torch.from_numpy(image)"
   ]
  },
  {
   "cell_type": "code",
   "execution_count": 19,
   "metadata": {},
   "outputs": [
    {
     "data": {
      "text/plain": [
       "<matplotlib.image.AxesImage at 0x7f37dc5178f0>"
      ]
     },
     "execution_count": 19,
     "metadata": {},
     "output_type": "execute_result"
    },
    {
     "data": {
      "image/png": "[encoded data removed]",
      "text/plain": [
       "<Figure size 640x480 with 1 Axes>"
      ]
     },
     "metadata": {},
     "output_type": "display_data"
    }
   ],
   "source": [
    "import cv2\n",
    "import numpy as np\n",
    "\n",
    "def variance_map(image: np.ndarray, kernel_size: int) -> np.ndarray:\n",
    "    if kernel_size % 2 == 0:\n",
    "        raise ValueError(\"Kernel size must be odd.\")\n",
    "    \n",
    "    pad_size = kernel_size // 2\n",
    "    \n",
    "    padded_image = cv2.copyMakeBorder(image, pad_size, pad_size, pad_size, pad_size, cv2.BORDER_REFLECT)\n",
    "    \n",
    "    variance_map = np.zeros_like(image, dtype=np.float32)\n",
    "\n",
    "    for i in range(pad_size, padded_image.shape[0] - pad_size):\n",
    "        for j in range(pad_size, padded_image.shape[1] - pad_size):\n",
    "            local_region = padded_image[i-pad_size:i+pad_size+1, j-pad_size:j+pad_size+1]\n",
    "            local_variance = np.var(local_region)\n",
    "            variance_map[i-pad_size, j-pad_size] = local_variance\n",
    "    \n",
    "    return variance_map\n",
    "\n",
    "image = cv2.imread('./local_var.png', cv2.IMREAD_GRAYSCALE)\n",
    "kernel_size = 5\n",
    "var_map = variance_map(image, kernel_size)\n",
    "\n",
    "plt.imshow(var_map, cmap='gray')"
   ]
  },
  {
   "cell_type": "code",
   "execution_count": 16,
   "metadata": {},
   "outputs": [
    {
     "data": {
      "text/plain": [
       "torch.Size([28, 28])"
      ]
     },
     "execution_count": 16,
     "metadata": {},
     "output_type": "execute_result"
    }
   ],
   "source": [
    "image.shape"
   ]
  },
  {
   "cell_type": "code",
   "execution_count": 38,
   "metadata": {},
   "outputs": [
    {
     "name": "stdout",
     "output_type": "stream",
     "text": [
      "(28, 28, 3)\n"
     ]
    },
    {
     "data": {
      "text/plain": [
       "<matplotlib.image.AxesImage at 0x7f3790811ac0>"
      ]
     },
     "execution_count": 38,
     "metadata": {},
     "output_type": "execute_result"
    },
    {
     "data": {
      "image/png": "[encoded data removed]",
      "text/plain": [
       "<Figure size 640x480 with 1 Axes>"
      ]
     },
     "metadata": {},
     "output_type": "display_data"
    }
   ],
   "source": [
    "import torch\n",
    "import torch.nn.functional as F\n",
    "\n",
    "def variance_map(image: torch.Tensor, kernel_size: int) -> torch.Tensor:\n",
    "    if kernel_size % 2 == 0:\n",
    "        raise ValueError(\"Kernel size must be odd.\")\n",
    "    \n",
    "    pad_size = kernel_size // 2\n",
    "    padded_image = F.pad(image, pad=(pad_size, pad_size, pad_size, pad_size), mode='reflect')\n",
    "    \n",
    "    local_mean = F.avg_pool2d(padded_image, kernel_size, stride=1, padding=0)\n",
    "    \n",
    "    squared_image = padded_image ** 2\n",
    "    local_mean_squared = F.avg_pool2d(squared_image, kernel_size, stride=1, padding=0)\n",
    "    \n",
    "    variance = local_mean_squared - local_mean ** 2\n",
    "    # variance = torch.mean(variance, dim=1, keepdim=True)\n",
    "    \n",
    "    return variance\n",
    "\n",
    "image = cv2.imread('./apple_color.png')\n",
    "image_tensor = torch.tensor(image, dtype=torch.float32).permute(2, 0, 1).unsqueeze(0)  # Convert to [1, 3, H, W] format\n",
    "var_map = variance_map(image_tensor, kernel_size=5)\n",
    "var_map_image = var_map.squeeze(0).permute(1, 2, 0).numpy()\n",
    "print(var_map_image.shape)\n",
    "var_map_image = cv2.cvtColor(var_map_image, cv2.COLOR_BGR2GRAY)\n",
    "\n",
    "plt.imshow(var_map_image, cmap='gray')"
   ]
  },
  {
   "cell_type": "code",
   "execution_count": 18,
   "metadata": {},
   "outputs": [
    {
     "name": "stdout",
     "output_type": "stream",
     "text": [
      "torch.Size([28, 28])\n"
     ]
    },
    {
     "ename": "IndexError",
     "evalue": "Dimension out of range (expected to be in range of [-2, 1], but got -3)",
     "output_type": "error",
     "traceback": [
      "\u001b[0;31m---------------------------------------------------------------------------\u001b[0m",
      "\u001b[0;31mIndexError\u001b[0m                                Traceback (most recent call last)",
      "Cell \u001b[0;32mIn[18], line 21\u001b[0m\n\u001b[1;32m     17\u001b[0m     div_avg \u001b[38;5;241m=\u001b[39m \u001b[38;5;28msum\u001b[39m(div_images) \u001b[38;5;241m/\u001b[39m \u001b[38;5;28mlen\u001b[39m(kernels)\n\u001b[1;32m     19\u001b[0m     \u001b[38;5;28;01mreturn\u001b[39;00m div_avg\n\u001b[0;32m---> 21\u001b[0m div_image \u001b[38;5;241m=\u001b[39m calculate_divergence(image)\n\u001b[1;32m     22\u001b[0m div_image \u001b[38;5;241m=\u001b[39m div_image\u001b[38;5;241m.\u001b[39mmean(dim\u001b[38;5;241m=\u001b[39m\u001b[38;5;241m2\u001b[39m)\n\u001b[1;32m     24\u001b[0m \u001b[38;5;28mprint\u001b[39m(div_image\u001b[38;5;241m.\u001b[39msize())\n",
      "Cell \u001b[0;32mIn[18], line 13\u001b[0m, in \u001b[0;36mcalculate_divergence\u001b[0;34m(image, kernels)\u001b[0m\n\u001b[1;32m     10\u001b[0m \u001b[38;5;28mprint\u001b[39m(image\u001b[38;5;241m.\u001b[39mshape)\n\u001b[1;32m     11\u001b[0m \u001b[38;5;66;03m# div = F.pad(image.float(), (kernel_size//2, kernel_size//2, kernel_size//2, kernel_size//2), mode='reflect')/255\u001b[39;00m\n\u001b[1;32m     12\u001b[0m \u001b[38;5;66;03m# div = F.avg_pool2d(div, kernel_size=kernel_size, stride=1, padding=0)\u001b[39;00m\n\u001b[0;32m---> 13\u001b[0m div \u001b[38;5;241m=\u001b[39m F\u001b[38;5;241m.\u001b[39mavg_pool2d(image\u001b[38;5;241m.\u001b[39mfloat(), kernel_size\u001b[38;5;241m=\u001b[39mkernel_size, stride\u001b[38;5;241m=\u001b[39m\u001b[38;5;241m1\u001b[39m, padding\u001b[38;5;241m=\u001b[39mkernel_size \u001b[38;5;241m/\u001b[39m\u001b[38;5;241m/\u001b[39m \u001b[38;5;241m2\u001b[39m)\n\u001b[1;32m     14\u001b[0m \u001b[38;5;28mprint\u001b[39m(div\u001b[38;5;241m.\u001b[39mshape)\n\u001b[1;32m     15\u001b[0m div_images\u001b[38;5;241m.\u001b[39mappend(div)\n",
      "\u001b[0;31mIndexError\u001b[0m: Dimension out of range (expected to be in range of [-2, 1], but got -3)"
     ]
    }
   ],
   "source": [
    "import torch\n",
    "import torch.nn.functional as F\n",
    "\n",
    "def calculate_divergence(image, kernels=[5, 11, 15]):\n",
    "    # kernels = [5, 11, 15]\n",
    "    div_images = []\n",
    "\n",
    "    for kernel_size in kernels:\n",
    "        # div = F.avg_pool2d(image.float(), kernel_size=kernel_size, stride=1, padding=kernel_size // 2)\n",
    "        print(image.shape)\n",
    "        # div = F.pad(image.float(), (kernel_size//2, kernel_size//2, kernel_size//2, kernel_size//2), mode='reflect')/255\n",
    "        # div = F.avg_pool2d(div, kernel_size=kernel_size, stride=1, padding=0)\n",
    "        div = F.avg_pool2d(image.float(), kernel_size=kernel_size, stride=1, padding=kernel_size // 2)\n",
    "        print(div.shape)\n",
    "        div_images.append(div)\n",
    "\n",
    "    div_avg = sum(div_images) / len(kernels)\n",
    "    \n",
    "    return div_avg\n",
    "\n",
    "div_image = calculate_divergence(image)\n",
    "div_image = div_image.mean(dim=2)\n",
    "\n",
    "print(div_image.size())\n",
    "\n",
    "plt.imshow(div_image.reshape(28, 28))"
   ]
  },
  {
   "cell_type": "code",
   "execution_count": 10,
   "metadata": {},
   "outputs": [],
   "source": [
    "def to_grayscale(image):\n",
    "    return torch.mean(image, dim=1, keepdim=True)  # Averaging the RGB channels\n",
    "\n",
    "gray_image = to_grayscale(image)"
   ]
  },
  {
   "cell_type": "code",
   "execution_count": 21,
   "metadata": {},
   "outputs": [
    {
     "data": {
      "text/plain": [
       "torch.Size([1, 3, 32, 32])"
      ]
     },
     "execution_count": 21,
     "metadata": {},
     "output_type": "execute_result"
    }
   ],
   "source": [
    "image.shape"
   ]
  },
  {
   "cell_type": "code",
   "execution_count": null,
   "metadata": {},
   "outputs": [],
   "source": [
    "def calculate_latency(div_image, max_latency):\n",
    "    min_div, max_div = div_image.min(), div_image.max()\n",
    "    normalized_div = (div_image - min_div) / (max_div - min_div)  # Normalize divergence between 0 and 1\n",
    "    latency = max_latency * (1 - normalized_div)  # Higher divergence -> lower latency, and vice versa\n",
    "    return latency\n",
    "\n",
    "max_latency = 100  # Maximum possible latency time\n",
    "latency_image = calculate_latency(div_image, max_latency)\n",
    "\n",
    "plt.imshow(latency_image.reshape(32, 32))\n"
   ]
  },
  {
   "cell_type": "code",
   "execution_count": 12,
   "metadata": {},
   "outputs": [],
   "source": [
    "class RestrictedRateEncoder(torch.nn.Module):\n",
    "    def __init__(self, time_window, fire_window_ratio):\n",
    "        super(RestrictedRateEncoder, self).__init__()\n",
    "        self.time_window = time_window\n",
    "        self.fire_window_size = int(time_window * fire_window_ratio)\n",
    "\n",
    "    def forward(self, gray_image, latency_image):\n",
    "        batch_size, _, height, width = gray_image.shape\n",
    "        spikes = torch.zeros(batch_size, height, width, self.time_window).to(gray_image.device)\n",
    "\n",
    "        # Create spike trains based on latency and gray_image\n",
    "        for t in range(self.time_window):\n",
    "            firing_mask = ((t >= latency_image) & (t < latency_image + self.fire_window_size)).float()\n",
    "            spike_prob = torch.rand(batch_size, height, width).to(gray_image.device)\n",
    "            spikes[:, :, :, t] = (spike_prob < gray_image.squeeze(1)) * firing_mask\n",
    "\n",
    "        return spikes\n",
    "\n",
    "# Example parameters\n",
    "time_window = 100\n",
    "fire_window_ratio = 0.2  # Fire window is 1/5 of the total time window\n",
    "\n",
    "# Initialize the encoder and generate spike trains\n",
    "encoder = RestrictedRateEncoder(time_window, fire_window_ratio)\n",
    "spike_trains = encoder(gray_image, latency_image)\n"
   ]
  },
  {
   "cell_type": "code",
   "execution_count": 20,
   "metadata": {},
   "outputs": [
    {
     "data": {
      "text/plain": [
       "torch.Size([1, 1, 32, 32])"
      ]
     },
     "execution_count": 20,
     "metadata": {},
     "output_type": "execute_result"
    }
   ],
   "source": [
    "gray_image.shape"
   ]
  },
  {
   "cell_type": "code",
   "execution_count": 14,
   "metadata": {},
   "outputs": [
    {
     "data": {
      "image/png": "[encoded data removed]",
      "text/plain": [
       "<Figure size 1200x800 with 1 Axes>"
      ]
     },
     "metadata": {},
     "output_type": "display_data"
    }
   ],
   "source": [
    "import matplotlib.pyplot as plt\n",
    "\n",
    "def plot_raster(spike_trains, num_neurons=10):\n",
    "    spike_trains = spike_trains.cpu().numpy()\n",
    "    plt.figure(figsize=(12, 8))\n",
    "    \n",
    "    for neuron_idx in range(num_neurons):\n",
    "        neuron_spikes = spike_trains[0, neuron_idx // 32, neuron_idx % 32]\n",
    "        spike_times = neuron_spikes.nonzero()[0]\n",
    "        plt.vlines(spike_times, neuron_idx + 0.5, neuron_idx + 1.5)\n",
    "    \n",
    "    plt.xlabel('Time')\n",
    "    plt.ylabel('Neuron Index')\n",
    "    plt.title('Raster Plot of Spikes')\n",
    "    plt.show()\n",
    "\n",
    "# Plot the raster plot for the first 10 neurons\n",
    "plot_raster(spike_trains, num_neurons=32*32)\n"
   ]
  },
  {
   "cell_type": "code",
   "execution_count": null,
   "metadata": {},
   "outputs": [],
   "source": []
  },
  {
   "cell_type": "code",
   "execution_count": null,
   "metadata": {},
   "outputs": [],
   "source": []
  },
  {
   "cell_type": "code",
   "execution_count": null,
   "metadata": {},
   "outputs": [],
   "source": []
  },
  {
   "cell_type": "code",
   "execution_count": null,
   "metadata": {},
   "outputs": [],
   "source": []
  },
  {
   "cell_type": "code",
   "execution_count": 1,
   "metadata": {},
   "outputs": [
    {
     "data": {
      "image/png": "[encoded data removed]",
      "text/plain": [
       "<Figure size 1000x600 with 1 Axes>"
      ]
     },
     "metadata": {},
     "output_type": "display_data"
    }
   ],
   "source": [
    "import torch\n",
    "import matplotlib.pyplot as plt\n",
    "\n",
    "# Assume the same encoder class and example input\n",
    "class RateEncoder(torch.nn.Module):\n",
    "    def __init__(self, num_neurons, time_window):\n",
    "        super(RateEncoder, self).__init__()\n",
    "        self.num_neurons = num_neurons\n",
    "        self.time_window = time_window\n",
    "\n",
    "    def forward(self, x):\n",
    "        batch_size = x.shape[0]\n",
    "        x = x.unsqueeze(-1).repeat(1, 1, self.time_window)\n",
    "        spikes = torch.rand(batch_size, self.num_neurons, self.time_window).to(x.device)\n",
    "        return (spikes < x).float()\n",
    "\n",
    "# Example usage\n",
    "time_window = 100\n",
    "num_neurons = 10  # smaller for visualization\n",
    "batch_size = 1  # single input\n",
    "input_data = torch.rand((batch_size, num_neurons))\n",
    "\n",
    "encoder = RateEncoder(num_neurons, time_window)\n",
    "spike_train = encoder(input_data)\n",
    "\n",
    "# Visualization\n",
    "plt.figure(figsize=(10, 6))\n",
    "for neuron_idx in range(num_neurons):\n",
    "    spike_times = torch.nonzero(spike_train[0, neuron_idx]).squeeze()\n",
    "    plt.vlines(spike_times, neuron_idx + 0.5, neuron_idx + 1.5)\n",
    "\n",
    "plt.xlabel('Time')\n",
    "plt.ylabel('Neuron Index')\n",
    "plt.title('Raster Plot of Spikes')\n",
    "plt.show()\n"
   ]
  },
  {
   "cell_type": "code",
   "execution_count": null,
   "metadata": {},
   "outputs": [],
   "source": []
  }
 ],
 "metadata": {
  "kernelspec": {
   "display_name": "torch",
   "language": "python",
   "name": "python3"
  },
  "language_info": {
   "codemirror_mode": {
    "name": "ipython",
    "version": 3
   },
   "file_extension": ".py",
   "mimetype": "text/x-python",
   "name": "python",
   "nbconvert_exporter": "python",
   "pygments_lexer": "ipython3",
   "version": "3.12.5"
  }
 },
 "nbformat": 4,
 "nbformat_minor": 2
}
